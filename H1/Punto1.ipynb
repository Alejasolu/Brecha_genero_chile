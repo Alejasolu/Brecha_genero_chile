{
  "cells": [
    {
      "cell_type": "markdown",
      "metadata": {
        "id": "view-in-github",
        "colab_type": "text"
      },
      "source": [
        "<a href=\"https://colab.research.google.com/github/Alejasolu/Brecha_genero_chile/blob/main/H1/Punto1.ipynb\" target=\"_parent\"><img src=\"https://colab.research.google.com/assets/colab-badge.svg\" alt=\"Open In Colab\"/></a>"
      ]
    },
    {
      "cell_type": "markdown",
      "source": [
        "## Point a"
      ],
      "metadata": {
        "id": "WtZqwtVPP09e"
      },
      "id": "WtZqwtVPP09e"
    },
    {
      "cell_type": "code",
      "execution_count": null,
      "id": "initial_id",
      "metadata": {
        "collapsed": true,
        "id": "initial_id"
      },
      "outputs": [],
      "source": []
    },
    {
      "cell_type": "markdown",
      "source": [
        "## Point b"
      ],
      "metadata": {
        "id": "ho-MWIJKP5fq"
      },
      "id": "ho-MWIJKP5fq"
    },
    {
      "cell_type": "markdown",
      "source": [
        "## Point c"
      ],
      "metadata": {
        "id": "FQgLn67gP7Nz"
      },
      "id": "FQgLn67gP7Nz"
    }
  ],
  "metadata": {
    "kernelspec": {
      "display_name": "Python 3",
      "language": "python",
      "name": "python3"
    },
    "language_info": {
      "codemirror_mode": {
        "name": "ipython",
        "version": 2
      },
      "file_extension": ".py",
      "mimetype": "text/x-python",
      "name": "python",
      "nbconvert_exporter": "python",
      "pygments_lexer": "ipython2",
      "version": "2.7.6"
    },
    "colab": {
      "provenance": [],
      "include_colab_link": true
    }
  },
  "nbformat": 4,
  "nbformat_minor": 5
}